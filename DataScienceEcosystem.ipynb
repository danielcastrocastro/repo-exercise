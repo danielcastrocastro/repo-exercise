{
 "cells": [
  {
   "cell_type": "markdown",
   "id": "01248b7f-84fd-439d-8afc-048bc43c55ee",
   "metadata": {},
   "source": [
    "# Data Science Tools and Ecosystem"
   ]
  },
  {
   "cell_type": "markdown",
   "id": "3afb1ce1-527e-487e-9fed-dfd1c5b4d645",
   "metadata": {},
   "source": [
    "## Author\n",
    "Daniel Castro"
   ]
  },
  {
   "cell_type": "markdown",
   "id": "56e25add-1654-4717-a86d-b5aa8a792422",
   "metadata": {},
   "source": [
    "In this notebook, Data Science Tools and Ecosystem are summarized."
   ]
  },
  {
   "cell_type": "markdown",
   "id": "dad6fce6-8a64-4aba-8616-10aaa53fc87b",
   "metadata": {},
   "source": [
    "**Objectives:**\n",
    "* List popular languages for Data Science\n",
    "* List popular libraries for Data Science\n",
    "* Write arithmetic expressions and tables in markdown format\n",
    "* Write math python code"
   ]
  },
  {
   "cell_type": "markdown",
   "id": "32cc017c-6cc0-4196-ae7d-41b209a34128",
   "metadata": {},
   "source": [
    "Some of the popular languages that Data Scientists use are:\n",
    "1. C++\n",
    "2. Python\n",
    "3. R\n",
    "4. Scala"
   ]
  },
  {
   "cell_type": "markdown",
   "id": "aba38f77-b4c5-4d4f-a49a-f196a75aecda",
   "metadata": {},
   "source": [
    "Some of the commonly used libraries used by Data Scientists include:\n",
    "1. NumPy\n",
    "2. Pandas\n",
    "3. Seaborn\n",
    "4. Pytorch"
   ]
  },
  {
   "cell_type": "markdown",
   "id": "df4868b4-2bc2-4f60-8910-bf50a3c19137",
   "metadata": {},
   "source": [
    "| Data Science Tools |\n",
    "| ----------- |\n",
    "| RStudio |\n",
    "| JupiterLab |\n",
    "| GitHub |"
   ]
  },
  {
   "cell_type": "markdown",
   "id": "4a24e193-955e-4387-9e0e-bffda998c663",
   "metadata": {},
   "source": [
    "### Below are a few examples of evaluating arithmetic expressions in Python\n",
    "$$\n",
    "  B = \\frac{\\pi^4}{15}\n",
    "$$\n",
    "$$ A = B + \\pi $$"
   ]
  },
  {
   "cell_type": "code",
   "execution_count": 5,
   "id": "7cc726e5-ac1b-4d62-bc72-ece819ccd4c4",
   "metadata": {},
   "outputs": [
    {
     "name": "stdout",
     "output_type": "stream",
     "text": [
      "17\n"
     ]
    }
   ],
   "source": [
    "# This a simple arithmetic expression to mutiply then add integers\n",
    "print((3*4)+5)"
   ]
  },
  {
   "cell_type": "code",
   "execution_count": 6,
   "id": "fb13f748-8070-4946-96cf-c70d5d25a6ab",
   "metadata": {},
   "outputs": [
    {
     "name": "stdout",
     "output_type": "stream",
     "text": [
      "Hours in 200 minutes: 3 hours and 20 minutes\n"
     ]
    }
   ],
   "source": [
    "# This will convert 200 minutes to hours by diving by 60\n",
    "hours = int(200 / 60)\n",
    "minutes = 200 % 60\n",
    "print(f\"Hours in 200 minutes: {hours} hours and {minutes} minutes\")"
   ]
  },
  {
   "cell_type": "code",
   "execution_count": null,
   "id": "05a640a2-6e1f-4f7b-a88f-3a5d6800f5b2",
   "metadata": {},
   "outputs": [],
   "source": []
  }
 ],
 "metadata": {
  "kernelspec": {
   "display_name": "Python 3 (ipykernel)",
   "language": "python",
   "name": "python3"
  },
  "language_info": {
   "codemirror_mode": {
    "name": "ipython",
    "version": 3
   },
   "file_extension": ".py",
   "mimetype": "text/x-python",
   "name": "python",
   "nbconvert_exporter": "python",
   "pygments_lexer": "ipython3",
   "version": "3.12.5"
  }
 },
 "nbformat": 4,
 "nbformat_minor": 5
}
